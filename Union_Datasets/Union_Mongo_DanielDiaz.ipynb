{
 "cells": [
  {
   "cell_type": "code",
   "execution_count": 1,
   "id": "851d003e-53d4-4f25-8145-0b2eadf419e5",
   "metadata": {},
   "outputs": [
    {
     "name": "stdout",
     "output_type": "stream",
     "text": [
      "Datos insertados correctamente en MongoDB local desde JSON.\n"
     ]
    }
   ],
   "source": [
    "import json\n",
    "from pymongo import MongoClient\n",
    "\n",
    "# 1. Cargar archivo JSON\n",
    "with open(\"Datos_Clima_Limpios.json\", \"r\", encoding=\"utf-8\") as file:\n",
    "    datos = json.load(file)\n",
    "\n",
    "# 2. Conectarse a MongoDB local\n",
    "cliente = MongoClient(\"mongodb://localhost:27017/\")\n",
    "db = cliente[\"PROYECTO_ANALISIS_UNIDO\"]        \n",
    "coleccion = db[\"Eventos_Noticias_Mundiales_1\"]       \n",
    "\n",
    "# 3. Insertar los datos\n",
    "if isinstance(datos, list):\n",
    "    coleccion.insert_many(datos)\n",
    "else:\n",
    "    coleccion.insert_one(datos)\n",
    "\n",
    "print(\"Datos insertados correctamente en MongoDB local desde JSON.\")\n"
   ]
  },
  {
   "cell_type": "code",
   "execution_count": 2,
   "id": "2f75981e-661b-4183-860b-8068f691c6c8",
   "metadata": {},
   "outputs": [
    {
     "name": "stdout",
     "output_type": "stream",
     "text": [
      "Datos insertados correctamente en MongoDB local desde JSON.\n"
     ]
    }
   ],
   "source": [
    "import json\n",
    "from pymongo import MongoClient\n",
    "\n",
    "# 1. Cargar archivo JSON\n",
    "with open(\"Datos_UFC_Limpios.json\", \"r\", encoding=\"utf-8\") as file:\n",
    "    datos = json.load(file)\n",
    "\n",
    "# 2. Conectarse a MongoDB local\n",
    "cliente = MongoClient(\"mongodb://localhost:27017/\")\n",
    "db = cliente[\"PROYECTO_ANALISIS_UNIDO\"]        \n",
    "coleccion = db[\"Eventos_Noticias_Mundiales_2\"]       \n",
    "\n",
    "# 3. Insertar los datos\n",
    "if isinstance(datos, list):\n",
    "    coleccion.insert_many(datos)\n",
    "else:\n",
    "    coleccion.insert_one(datos)\n",
    "\n",
    "print(\"Datos insertados correctamente en MongoDB local desde JSON.\")"
   ]
  },
  {
   "cell_type": "code",
   "execution_count": null,
   "id": "95a7f3ad-1745-4f58-847b-db18c0aa4d1b",
   "metadata": {},
   "outputs": [],
   "source": []
  }
 ],
 "metadata": {
  "kernelspec": {
   "display_name": "Python 3 (ipykernel)",
   "language": "python",
   "name": "python3"
  },
  "language_info": {
   "codemirror_mode": {
    "name": "ipython",
    "version": 3
   },
   "file_extension": ".py",
   "mimetype": "text/x-python",
   "name": "python",
   "nbconvert_exporter": "python",
   "pygments_lexer": "ipython3",
   "version": "3.12.6"
  }
 },
 "nbformat": 4,
 "nbformat_minor": 5
}
