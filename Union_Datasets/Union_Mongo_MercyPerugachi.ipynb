{
 "cells": [
  {
   "cell_type": "code",
   "execution_count": 1,
   "id": "c0d1a8b6-c88b-4abd-8fd4-c671ba45a9b6",
   "metadata": {},
   "outputs": [
    {
     "name": "stdout",
     "output_type": "stream",
     "text": [
      "Datos insertados correctamente en MongoDB local\n"
     ]
    }
   ],
   "source": [
    "import pandas as pd\n",
    "from pymongo import MongoClient\n",
    "\n",
    "# 1. Leer el archivo CSV\n",
    "df = pd.read_csv(\"unifed_wine_reviews_limpio.csv\")  \n",
    "\n",
    "# 2. Conexión a MongoDB local\n",
    "client = MongoClient(\"mongodb://localhost:27017/\")\n",
    "db = client[\"PROYECTO_ANALISIS_UNIDO\"]  \n",
    "coleccion = db[\"Definido_Grupo_Vino_Reviews\"]  \n",
    "\n",
    "# 3. Convertir DataFrame a diccionarios\n",
    "datos = df.to_dict(orient=\"records\")\n",
    "\n",
    "# 4. Insertar los datos en MongoDB\n",
    "coleccion.insert_many(datos)\n",
    "\n",
    "print(\"Datos insertados correctamente en MongoDB local\")\n"
   ]
  },
  {
   "cell_type": "code",
   "execution_count": null,
   "id": "87bb2046-b21b-4833-ba84-d290e3184b77",
   "metadata": {},
   "outputs": [],
   "source": []
  }
 ],
 "metadata": {
  "kernelspec": {
   "display_name": "Python 3 (ipykernel)",
   "language": "python",
   "name": "python3"
  },
  "language_info": {
   "codemirror_mode": {
    "name": "ipython",
    "version": 3
   },
   "file_extension": ".py",
   "mimetype": "text/x-python",
   "name": "python",
   "nbconvert_exporter": "python",
   "pygments_lexer": "ipython3",
   "version": "3.12.6"
  }
 },
 "nbformat": 4,
 "nbformat_minor": 5
}
