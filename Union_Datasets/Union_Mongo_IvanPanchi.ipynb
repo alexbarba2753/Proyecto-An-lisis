{
 "cells": [
  {
   "cell_type": "code",
   "execution_count": null,
   "id": "7b6c88f3-337c-4447-a0fd-af010cd07f0b",
   "metadata": {},
   "outputs": [],
   "source": [
    "#EVENTOS DEPORTIVOS"
   ]
  },
  {
   "cell_type": "code",
   "execution_count": 1,
   "id": "2d5b2ac1-d0b1-4496-afeb-ec71472198d2",
   "metadata": {},
   "outputs": [
    {
     "name": "stdout",
     "output_type": "stream",
     "text": [
      "Datos insertados correctamente en MongoDB local\n"
     ]
    }
   ],
   "source": [
    "import pandas as pd\n",
    "from pymongo import MongoClient\n",
    "\n",
    "# 1. Leer el archivo CSV\n",
    "df = pd.read_csv(\"data.csv\")  \n",
    "\n",
    "# 2. Conexión a MongoDB local\n",
    "client = MongoClient(\"mongodb://localhost:27017/\")\n",
    "db = client[\"PROYECTO_ANALISIS_UNIDO\"]  \n",
    "coleccion = db[\"Eventos_Deportivos_1\"]  \n",
    "\n",
    "# 3. Convertir DataFrame a diccionarios\n",
    "datos = df.to_dict(orient=\"records\")\n",
    "\n",
    "# 4. Insertar los datos en MongoDB\n",
    "coleccion.insert_many(datos)\n",
    "\n",
    "print(\"Datos insertados correctamente en MongoDB local\")\n"
   ]
  },
  {
   "cell_type": "code",
   "execution_count": 2,
   "id": "5845cc82-f658-4e84-bf77-9851ed8c7bf4",
   "metadata": {},
   "outputs": [
    {
     "name": "stdout",
     "output_type": "stream",
     "text": [
      "Datos insertados correctamente en MongoDB local\n"
     ]
    }
   ],
   "source": [
    "import pandas as pd\n",
    "from pymongo import MongoClient\n",
    "\n",
    "# 1. Leer el archivo CSV\n",
    "df = pd.read_csv(\"Olympic_Athlete_Event_Details_CLEAN.csv\")  \n",
    "\n",
    "# 2. Conexión a MongoDB local\n",
    "client = MongoClient(\"mongodb://localhost:27017/\")\n",
    "db = client[\"PROYECTO_ANALISIS_UNIDO\"]  \n",
    "coleccion = db[\"Eventos_Deportivos_2\"]  \n",
    "\n",
    "# 3. Convertir DataFrame a diccionarios\n",
    "datos = df.to_dict(orient=\"records\")\n",
    "\n",
    "# 4. Insertar los datos en MongoDB\n",
    "coleccion.insert_many(datos)\n",
    "\n",
    "print(\"Datos insertados correctamente en MongoDB local\")\n"
   ]
  },
  {
   "cell_type": "code",
   "execution_count": 3,
   "id": "536d16f9-60c4-46ad-9f3d-e7397cd53965",
   "metadata": {},
   "outputs": [],
   "source": [
    "#HOBBIES"
   ]
  },
  {
   "cell_type": "code",
   "execution_count": 4,
   "id": "62bfa56e-c6b6-4d8f-9c8b-947733371d5d",
   "metadata": {},
   "outputs": [
    {
     "name": "stdout",
     "output_type": "stream",
     "text": [
      "Datos insertados correctamente en MongoDB local\n"
     ]
    }
   ],
   "source": [
    "import pandas as pd\n",
    "from pymongo import MongoClient\n",
    "\n",
    "# 1. Leer el archivo CSV\n",
    "df = pd.read_csv(\"gym_members_analysis.csv\")  \n",
    "\n",
    "# 2. Conexión a MongoDB local\n",
    "client = MongoClient(\"mongodb://localhost:27017/\")\n",
    "db = client[\"PROYECTO_ANALISIS_UNIDO\"]  \n",
    "coleccion = db[\"Actividades_Hobbies_2\"]  \n",
    "\n",
    "# 3. Convertir DataFrame a diccionarios\n",
    "datos = df.to_dict(orient=\"records\")\n",
    "\n",
    "# 4. Insertar los datos en MongoDB\n",
    "coleccion.insert_many(datos)\n",
    "\n",
    "print(\"Datos insertados correctamente en MongoDB local\")\n"
   ]
  },
  {
   "cell_type": "code",
   "execution_count": 3,
   "id": "a7a0633f-973b-4f97-92d9-c9a42c9c1bcb",
   "metadata": {},
   "outputs": [
    {
     "name": "stdout",
     "output_type": "stream",
     "text": [
      "Datos insertados correctamente en MongoDB local\n"
     ]
    }
   ],
   "source": [
    "import pandas as pd\n",
    "from pymongo import MongoClient\n",
    "\n",
    "# 1. Leer el archivo CSV\n",
    "df = pd.read_csv(\"fatal_accidents_drivers.csv\")  \n",
    "\n",
    "# 2. Conexión a MongoDB local\n",
    "client = MongoClient(\"mongodb://localhost:27017/\")\n",
    "db = client[\"PROYECTO_ANALISIS_UNIDO\"]  \n",
    "coleccion = db[\"Eventos_Noticias_Mundiales_3\"]  \n",
    "\n",
    "# 3. Convertir DataFrame a diccionarios\n",
    "datos = df.to_dict(orient=\"records\")\n",
    "\n",
    "# 4. Insertar los datos en MongoDB\n",
    "coleccion.insert_many(datos)\n",
    "\n",
    "print(\"Datos insertados correctamente en MongoDB local\")\n"
   ]
  },
  {
   "cell_type": "code",
   "execution_count": null,
   "id": "97bbeb17-8ab0-4d67-88a8-3cc97b3ca4a9",
   "metadata": {},
   "outputs": [],
   "source": []
  }
 ],
 "metadata": {
  "kernelspec": {
   "display_name": "Python 3 (ipykernel)",
   "language": "python",
   "name": "python3"
  },
  "language_info": {
   "codemirror_mode": {
    "name": "ipython",
    "version": 3
   },
   "file_extension": ".py",
   "mimetype": "text/x-python",
   "name": "python",
   "nbconvert_exporter": "python",
   "pygments_lexer": "ipython3",
   "version": "3.12.6"
  }
 },
 "nbformat": 4,
 "nbformat_minor": 5
}
