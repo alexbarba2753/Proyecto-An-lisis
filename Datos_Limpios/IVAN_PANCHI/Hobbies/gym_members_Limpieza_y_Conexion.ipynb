{
 "cells": [
  {
   "cell_type": "code",
   "execution_count": 1,
   "id": "76d805b4-f382-4589-ad13-541a92c1ff45",
   "metadata": {},
   "outputs": [
    {
     "name": "stdout",
     "output_type": "stream",
     "text": [
      "Requirement already satisfied: pandas in c:\\users\\lapto\\appdata\\local\\programs\\python\\python313\\lib\\site-packages (2.2.3)\n",
      "Requirement already satisfied: numpy in c:\\users\\lapto\\appdata\\local\\programs\\python\\python313\\lib\\site-packages (2.2.5)\n",
      "Requirement already satisfied: matplotlib in c:\\users\\lapto\\appdata\\local\\programs\\python\\python313\\lib\\site-packages (3.10.3)\n",
      "Requirement already satisfied: seaborn in c:\\users\\lapto\\appdata\\local\\programs\\python\\python313\\lib\\site-packages (0.13.2)\n",
      "Requirement already satisfied: psycopg2-binary in c:\\users\\lapto\\appdata\\local\\programs\\python\\python313\\lib\\site-packages (2.9.10)\n",
      "Requirement already satisfied: textblob in c:\\users\\lapto\\appdata\\local\\programs\\python\\python313\\lib\\site-packages (0.19.0)\n",
      "Requirement already satisfied: python-dateutil>=2.8.2 in c:\\users\\lapto\\appdata\\local\\programs\\python\\python313\\lib\\site-packages (from pandas) (2.9.0.post0)\n",
      "Requirement already satisfied: pytz>=2020.1 in c:\\users\\lapto\\appdata\\local\\programs\\python\\python313\\lib\\site-packages (from pandas) (2025.2)\n",
      "Requirement already satisfied: tzdata>=2022.7 in c:\\users\\lapto\\appdata\\local\\programs\\python\\python313\\lib\\site-packages (from pandas) (2025.2)\n",
      "Requirement already satisfied: contourpy>=1.0.1 in c:\\users\\lapto\\appdata\\local\\programs\\python\\python313\\lib\\site-packages (from matplotlib) (1.3.2)\n",
      "Requirement already satisfied: cycler>=0.10 in c:\\users\\lapto\\appdata\\local\\programs\\python\\python313\\lib\\site-packages (from matplotlib) (0.12.1)\n",
      "Requirement already satisfied: fonttools>=4.22.0 in c:\\users\\lapto\\appdata\\local\\programs\\python\\python313\\lib\\site-packages (from matplotlib) (4.58.4)\n",
      "Requirement already satisfied: kiwisolver>=1.3.1 in c:\\users\\lapto\\appdata\\local\\programs\\python\\python313\\lib\\site-packages (from matplotlib) (1.4.8)\n",
      "Requirement already satisfied: packaging>=20.0 in c:\\users\\lapto\\appdata\\local\\programs\\python\\python313\\lib\\site-packages (from matplotlib) (25.0)\n",
      "Requirement already satisfied: pillow>=8 in c:\\users\\lapto\\appdata\\local\\programs\\python\\python313\\lib\\site-packages (from matplotlib) (11.2.1)\n",
      "Requirement already satisfied: pyparsing>=2.3.1 in c:\\users\\lapto\\appdata\\local\\programs\\python\\python313\\lib\\site-packages (from matplotlib) (3.2.3)\n",
      "Requirement already satisfied: nltk>=3.9 in c:\\users\\lapto\\appdata\\local\\programs\\python\\python313\\lib\\site-packages (from textblob) (3.9.1)\n",
      "Requirement already satisfied: click in c:\\users\\lapto\\appdata\\local\\programs\\python\\python313\\lib\\site-packages (from nltk>=3.9->textblob) (8.2.1)\n",
      "Requirement already satisfied: joblib in c:\\users\\lapto\\appdata\\local\\programs\\python\\python313\\lib\\site-packages (from nltk>=3.9->textblob) (1.5.1)\n",
      "Requirement already satisfied: regex>=2021.8.3 in c:\\users\\lapto\\appdata\\local\\programs\\python\\python313\\lib\\site-packages (from nltk>=3.9->textblob) (2024.11.6)\n",
      "Requirement already satisfied: tqdm in c:\\users\\lapto\\appdata\\local\\programs\\python\\python313\\lib\\site-packages (from nltk>=3.9->textblob) (4.67.1)\n",
      "Requirement already satisfied: six>=1.5 in c:\\users\\lapto\\appdata\\local\\programs\\python\\python313\\lib\\site-packages (from python-dateutil>=2.8.2->pandas) (1.17.0)\n",
      "Requirement already satisfied: colorama in c:\\users\\lapto\\appdata\\local\\programs\\python\\python313\\lib\\site-packages (from click->nltk>=3.9->textblob) (0.4.6)\n"
     ]
    },
    {
     "name": "stderr",
     "output_type": "stream",
     "text": [
      "\n",
      "[notice] A new release of pip is available: 25.0.1 -> 25.2\n",
      "[notice] To update, run: python.exe -m pip install --upgrade pip\n"
     ]
    }
   ],
   "source": [
    "# Instalar librerías necesarias\n",
    "!pip install pandas numpy matplotlib seaborn psycopg2-binary textblob"
   ]
  },
  {
   "cell_type": "code",
   "execution_count": 3,
   "id": "45adfc1e-141d-4322-bcff-3dfa341caa7b",
   "metadata": {},
   "outputs": [
    {
     "name": "stderr",
     "output_type": "stream",
     "text": [
      "Could not save font_manager cache [Errno 13] Permission denied: 'C:\\\\Users\\\\LAPTO\\\\.matplotlib\\\\fontlist-v390.json.matplotlib-lock'\n"
     ]
    },
    {
     "name": "stdout",
     "output_type": "stream",
     "text": [
      "   Age  Gender  Weight (kg)  Height (m)  Max_BPM  Avg_BPM  Resting_BPM  \\\n",
      "0   56    Male         88.3        1.71      180      157           60   \n",
      "1   46  Female         74.9        1.53      179      151           66   \n",
      "2   32  Female         68.1        1.66      167      122           54   \n",
      "3   25    Male         53.2        1.70      190      164           56   \n",
      "4   38    Male         46.1        1.79      188      158           68   \n",
      "\n",
      "   Session_Duration (hours)  Calories_Burned Workout_Type  Fat_Percentage  \\\n",
      "0                      1.69           1313.0         Yoga            12.6   \n",
      "1                      1.30            883.0         HIIT            33.9   \n",
      "2                      1.11            677.0       Cardio            33.4   \n",
      "3                      0.59            532.0     Strength            28.8   \n",
      "4                      0.64            556.0     Strength            29.2   \n",
      "\n",
      "   Water_Intake (liters)  Workout_Frequency (days/week)  Experience_Level  \\\n",
      "0                    3.5                              4                 3   \n",
      "1                    2.1                              4                 2   \n",
      "2                    2.3                              4                 2   \n",
      "3                    2.1                              3                 1   \n",
      "4                    2.8                              3                 1   \n",
      "\n",
      "     BMI  \n",
      "0  30.20  \n",
      "1  32.00  \n",
      "2  24.71  \n",
      "3  18.41  \n",
      "4  14.39  \n"
     ]
    }
   ],
   "source": [
    "# Cargar el dataset\n",
    "import pandas as pd\n",
    "import numpy as np\n",
    "import matplotlib.pyplot as plt\n",
    "import seaborn as sns\n",
    "from textblob import TextBlob\n",
    "import psycopg2\n",
    "from sqlalchemy import create_engine\n",
    "\n",
    "# Cargar el dataset\n",
    "file_path = 'gym_members_exercise_tracking.csv'\n",
    "df = pd.read_csv(file_path)\n",
    "\n",
    "# Mostrar las primeras filas\n",
    "print(df.head())\n"
   ]
  },
  {
   "cell_type": "code",
   "execution_count": 4,
   "id": "6c937572-dcee-44ff-8277-4d5932340288",
   "metadata": {},
   "outputs": [
    {
     "name": "stdout",
     "output_type": "stream",
     "text": [
      "\n",
      "Información del dataset:\n",
      "<class 'pandas.core.frame.DataFrame'>\n",
      "RangeIndex: 973 entries, 0 to 972\n",
      "Data columns (total 15 columns):\n",
      " #   Column                         Non-Null Count  Dtype  \n",
      "---  ------                         --------------  -----  \n",
      " 0   Age                            973 non-null    int64  \n",
      " 1   Gender                         973 non-null    object \n",
      " 2   Weight (kg)                    973 non-null    float64\n",
      " 3   Height (m)                     973 non-null    float64\n",
      " 4   Max_BPM                        973 non-null    int64  \n",
      " 5   Avg_BPM                        973 non-null    int64  \n",
      " 6   Resting_BPM                    973 non-null    int64  \n",
      " 7   Session_Duration (hours)       973 non-null    float64\n",
      " 8   Calories_Burned                973 non-null    float64\n",
      " 9   Workout_Type                   973 non-null    object \n",
      " 10  Fat_Percentage                 973 non-null    float64\n",
      " 11  Water_Intake (liters)          973 non-null    float64\n",
      " 12  Workout_Frequency (days/week)  973 non-null    int64  \n",
      " 13  Experience_Level               973 non-null    int64  \n",
      " 14  BMI                            973 non-null    float64\n",
      "dtypes: float64(7), int64(6), object(2)\n",
      "memory usage: 114.2+ KB\n",
      "None\n",
      "\n",
      "Estadísticas descriptivas:\n",
      "               Age Gender  Weight (kg)  Height (m)     Max_BPM     Avg_BPM  \\\n",
      "count   973.000000    973   973.000000   973.00000  973.000000  973.000000   \n",
      "unique         NaN      2          NaN         NaN         NaN         NaN   \n",
      "top            NaN   Male          NaN         NaN         NaN         NaN   \n",
      "freq           NaN    511          NaN         NaN         NaN         NaN   \n",
      "mean     38.683453    NaN    73.854676     1.72258  179.883864  143.766701   \n",
      "std      12.180928    NaN    21.207500     0.12772   11.525686   14.345101   \n",
      "min      18.000000    NaN    40.000000     1.50000  160.000000  120.000000   \n",
      "25%      28.000000    NaN    58.100000     1.62000  170.000000  131.000000   \n",
      "50%      40.000000    NaN    70.000000     1.71000  180.000000  143.000000   \n",
      "75%      49.000000    NaN    86.000000     1.80000  190.000000  156.000000   \n",
      "max      59.000000    NaN   129.900000     2.00000  199.000000  169.000000   \n",
      "\n",
      "        Resting_BPM  Session_Duration (hours)  Calories_Burned Workout_Type  \\\n",
      "count    973.000000                973.000000       973.000000          973   \n",
      "unique          NaN                       NaN              NaN            4   \n",
      "top             NaN                       NaN              NaN     Strength   \n",
      "freq            NaN                       NaN              NaN          258   \n",
      "mean      62.223022                  1.256423       905.422405          NaN   \n",
      "std        7.327060                  0.343033       272.641516          NaN   \n",
      "min       50.000000                  0.500000       303.000000          NaN   \n",
      "25%       56.000000                  1.040000       720.000000          NaN   \n",
      "50%       62.000000                  1.260000       893.000000          NaN   \n",
      "75%       68.000000                  1.460000      1076.000000          NaN   \n",
      "max       74.000000                  2.000000      1783.000000          NaN   \n",
      "\n",
      "        Fat_Percentage  Water_Intake (liters)  Workout_Frequency (days/week)  \\\n",
      "count       973.000000             973.000000                     973.000000   \n",
      "unique             NaN                    NaN                            NaN   \n",
      "top                NaN                    NaN                            NaN   \n",
      "freq               NaN                    NaN                            NaN   \n",
      "mean         24.976773               2.626619                       3.321686   \n",
      "std           6.259419               0.600172                       0.913047   \n",
      "min          10.000000               1.500000                       2.000000   \n",
      "25%          21.300000               2.200000                       3.000000   \n",
      "50%          26.200000               2.600000                       3.000000   \n",
      "75%          29.300000               3.100000                       4.000000   \n",
      "max          35.000000               3.700000                       5.000000   \n",
      "\n",
      "        Experience_Level         BMI  \n",
      "count         973.000000  973.000000  \n",
      "unique               NaN         NaN  \n",
      "top                  NaN         NaN  \n",
      "freq                 NaN         NaN  \n",
      "mean            1.809866   24.912127  \n",
      "std             0.739693    6.660879  \n",
      "min             1.000000   12.320000  \n",
      "25%             1.000000   20.110000  \n",
      "50%             2.000000   24.160000  \n",
      "75%             2.000000   28.560000  \n",
      "max             3.000000   49.840000  \n"
     ]
    }
   ],
   "source": [
    "# Información básica del dataset\n",
    "print(\"\\nInformación del dataset:\")\n",
    "print(df.info())\n",
    "\n",
    "# Estadísticas descriptivas\n",
    "print(\"\\nEstadísticas descriptivas:\")\n",
    "print(df.describe(include='all'))"
   ]
  },
  {
   "cell_type": "code",
   "execution_count": 5,
   "id": "c4b1bfc1-b33b-4c62-97a2-c07efb366b3b",
   "metadata": {},
   "outputs": [
    {
     "data": {
      "image/png": "[encoded data removed]",
      "text/plain": [
       "<Figure size 1500x1000 with 2 Axes>"
      ]
     },
     "metadata": {},
     "output_type": "display_data"
    }
   ],
   "source": [
    "# Análisis de variables categóricas\n",
    "cat_cols = df.select_dtypes(include=['object']).columns\n",
    "if len(cat_cols) > 0:\n",
    "    plt.figure(figsize=(15, 10))\n",
    "    for i, col in enumerate(cat_cols, 1):\n",
    "        plt.subplot(2, 2, i)\n",
    "        sns.countplot(y=df[col], order=df[col].value_counts().index)\n",
    "        plt.title(f'Conteo de {col}')\n",
    "    plt.tight_layout()\n",
    "    plt.show()"
   ]
  },
  {
   "cell_type": "code",
   "execution_count": 6,
   "id": "609ff0d4-3254-43af-847d-2e4813f0a2c9",
   "metadata": {},
   "outputs": [
    {
     "name": "stdout",
     "output_type": "stream",
     "text": [
      "\n",
      "No se encontraron columnas de texto adecuadas para análisis de sentimientos.\n"
     ]
    }
   ],
   "source": [
    "# Análisis de sentimientos\n",
    "# Verificar si hay columnas de texto para análisis de sentimientos\n",
    "text_cols = [col for col in df.columns if df[col].dtype == 'object' and col not in cat_cols]\n",
    "\n",
    "if text_cols:\n",
    "    print(\"\\nAnálisis de sentimientos:\")\n",
    "    for col in text_cols:\n",
    "        # Ejemplo: crear una nueva columna con el análisis de sentimiento\n",
    "        df[f'{col}_sentiment'] = df[col].apply(lambda x: TextBlob(str(x)).sentiment.polarity)\n",
    "        \n",
    "        # Mostrar resultados\n",
    "        print(f\"\\nDistribución de sentimientos para {col}:\")\n",
    "        plt.figure(figsize=(8, 4))\n",
    "        sns.histplot(df[f'{col}_sentiment'], bins=20, kde=True)\n",
    "        plt.title(f'Distribución de sentimientos - {col}')\n",
    "        plt.show()\n",
    "        \n",
    "        print(f\"\\nResumen de sentimientos para {col}:\")\n",
    "        print(df[f'{col}_sentiment'].describe())\n",
    "else:\n",
    "    print(\"\\nNo se encontraron columnas de texto adecuadas para análisis de sentimientos.\")"
   ]
  },
  {
   "cell_type": "code",
   "execution_count": 11,
   "id": "83f68542-c398-49d2-ab07-1dc633a336b2",
   "metadata": {},
   "outputs": [
    {
     "name": "stdout",
     "output_type": "stream",
     "text": [
      "Conexión exitosa a PostgreSQL\n",
      "Tabla gym_members_exercise_tracking creada exitosamente\n",
      "Datos insertados correctamente en la tabla gym_members_exercise_tracking\n"
     ]
    }
   ],
   "source": [
    "import re\n",
    "\n",
    "# Configuración de la conexión \n",
    "db_config = {\n",
    "    'host': 'localhost',\n",
    "    'database': 'gym',\n",
    "    'user': 'postgres',\n",
    "    'password': '1234',\n",
    "    'port': '5432'\n",
    "}\n",
    "\n",
    "# Función para limpiar nombres de columnas\n",
    "def clean_column_name(name):\n",
    "    # Reemplazar caracteres especiales con _\n",
    "    name = re.sub(r'[^a-zA-Z0-9_]', '_', str(name))\n",
    "    # Eliminar múltiples _ consecutivos\n",
    "    name = re.sub(r'_+', '_', name)\n",
    "    # Eliminar _ al inicio o final\n",
    "    name = name.strip('_')\n",
    "    return name.lower()\n",
    "\n",
    "# Limpiar nombres de columnas\n",
    "df_clean = df.rename(columns=clean_column_name)\n",
    "\n",
    "# Crear conexión\n",
    "try:\n",
    "    conn = psycopg2.connect(**db_config)\n",
    "    cursor = conn.cursor()\n",
    "    print(\"Conexión exitosa a PostgreSQL\")\n",
    "    \n",
    "    # Crear tabla si no existe\n",
    "    table_name = 'gym_members_exercise_tracking'\n",
    "    \n",
    "    # Generar la definición de columnas dinámicamente\n",
    "    columns_def = []\n",
    "    for col in df_clean.columns:\n",
    "        if df_clean[col].dtype == 'object':\n",
    "            columns_def.append(f'\"{col}\" TEXT')\n",
    "        elif np.issubdtype(df_clean[col].dtype, np.integer):\n",
    "            columns_def.append(f'\"{col}\" INTEGER')\n",
    "        elif np.issubdtype(df_clean[col].dtype, np.floating):\n",
    "            columns_def.append(f'\"{col}\" FLOAT')\n",
    "        else:\n",
    "            columns_def.append(f'\"{col}\" TEXT')\n",
    "    \n",
    "    create_table_query = f\"\"\"\n",
    "    CREATE TABLE IF NOT EXISTS {table_name} (\n",
    "        {', '.join(columns_def)}\n",
    "    )\n",
    "    \"\"\"\n",
    "    cursor.execute(create_table_query)\n",
    "    conn.commit()\n",
    "    print(f\"Tabla {table_name} creada exitosamente\")\n",
    "    \n",
    "    # Insertar datos (usando SQLAlchemy para mayor eficiencia)\n",
    "    engine = create_engine(f'postgresql://{db_config[\"user\"]}:{db_config[\"password\"]}@{db_config[\"host\"]}:{db_config[\"port\"]}/{db_config[\"database\"]}')\n",
    "    df_clean.to_sql(table_name, engine, if_exists='replace', index=False)\n",
    "    print(f\"Datos insertados correctamente en la tabla {table_name}\")\n",
    "    \n",
    "except Exception as e:\n",
    "    print(f\"Error al conectar con PostgreSQL: {e}\")\n",
    "    # Imprimir el query que falló para debugging\n",
    "    if 'create_table_query' in locals():\n",
    "        print(\"Query que falló:\", create_table_query)\n",
    "finally:\n",
    "    if 'conn' in locals() and conn:\n",
    "        cursor.close()\n",
    "        conn.close()"
   ]
  },
  {
   "cell_type": "code",
   "execution_count": 12,
   "id": "12e77bd2-05c7-4194-9771-2802ce66edb1",
   "metadata": {},
   "outputs": [
    {
     "name": "stdout",
     "output_type": "stream",
     "text": [
      "\n",
      "Dataset exportado exitosamente a: C:/Users/LAPTO/Downloads/gym_members_analysis.csv\n"
     ]
    }
   ],
   "source": [
    "# Exportar el dataframe con los análisis adicionales\n",
    "output_path = \"C:/Users/LAPTO/Downloads/gym_members_analysis.csv\"\n",
    "df.to_csv(output_path, index=False)\n",
    "print(f\"\\nDataset exportado exitosamente a: {output_path}\")"
   ]
  },
  {
   "cell_type": "code",
   "execution_count": null,
   "id": "a3682ec7-d0a6-4fd5-bdd1-d513352ed2c0",
   "metadata": {},
   "outputs": [],
   "source": []
  }
 ],
 "metadata": {
  "kernelspec": {
   "display_name": "Python 3 (ipykernel)",
   "language": "python",
   "name": "python3"
  },
  "language_info": {
   "codemirror_mode": {
    "name": "ipython",
    "version": 3
   },
   "file_extension": ".py",
   "mimetype": "text/x-python",
   "name": "python",
   "nbconvert_exporter": "python",
   "pygments_lexer": "ipython3",
   "version": "3.13.3"
  }
 },
 "nbformat": 4,
 "nbformat_minor": 5
}
