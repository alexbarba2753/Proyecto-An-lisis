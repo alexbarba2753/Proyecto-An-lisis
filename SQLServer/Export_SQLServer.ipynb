{
 "cells": [
  {
   "cell_type": "code",
   "execution_count": 2,
   "id": "b90a8903-d789-4a12-b0b5-40bb70a7ae44",
   "metadata": {},
   "outputs": [
    {
     "name": "stdout",
     "output_type": "stream",
     "text": [
      "Defaulting to user installation because normal site-packages is not writeable\n",
      "Requirement already satisfied: pymongo in c:\\users\\dell\\appdata\\roaming\\python\\python312\\site-packages (4.13.0)\n",
      "Requirement already satisfied: pyodbc in c:\\users\\dell\\appdata\\roaming\\python\\python312\\site-packages (5.2.0)\n",
      "Requirement already satisfied: pandas in c:\\users\\dell\\appdata\\roaming\\python\\python312\\site-packages (2.2.3)\n",
      "Requirement already satisfied: dnspython<3.0.0,>=1.16.0 in c:\\users\\dell\\appdata\\roaming\\python\\python312\\site-packages (from pymongo) (2.7.0)\n",
      "Requirement already satisfied: numpy>=1.26.0 in c:\\users\\dell\\appdata\\roaming\\python\\python312\\site-packages (from pandas) (2.2.5)\n",
      "Requirement already satisfied: python-dateutil>=2.8.2 in c:\\users\\dell\\appdata\\roaming\\python\\python312\\site-packages (from pandas) (2.9.0.post0)\n",
      "Requirement already satisfied: pytz>=2020.1 in c:\\users\\dell\\appdata\\roaming\\python\\python312\\site-packages (from pandas) (2025.2)\n",
      "Requirement already satisfied: tzdata>=2022.7 in c:\\users\\dell\\appdata\\roaming\\python\\python312\\site-packages (from pandas) (2025.2)\n",
      "Requirement already satisfied: six>=1.5 in c:\\users\\dell\\appdata\\roaming\\python\\python312\\site-packages (from python-dateutil>=2.8.2->pandas) (1.17.0)\n",
      "Note: you may need to restart the kernel to use updated packages.\n"
     ]
    }
   ],
   "source": [
    "pip install pymongo pyodbc pandas"
   ]
  },
  {
   "cell_type": "code",
   "execution_count": 1,
   "id": "c85e1bde-f520-4e35-9c23-776799bcec82",
   "metadata": {},
   "outputs": [
    {
     "name": "stdout",
     "output_type": "stream",
     "text": [
      " Procesando colección: Eventos_Deportivos_2\n",
      " Insertados 316834 registros en tabla 'Eventos_Deportivos_2'.\n",
      " Procesando colección: Eventos_Noticias_Mundiales_2\n",
      " Insertados 2479 registros en tabla 'Eventos_Noticias_Mundiales_2'.\n",
      " Procesando colección: Actividades_Hobbies_3\n",
      " Insertados 9999 registros en tabla 'Actividades_Hobbies_3'.\n",
      " Procesando colección: Definido_Grupo_Vino_Reviews\n",
      " Insertados 169652 registros en tabla 'Definido_Grupo_Vino_Reviews'.\n",
      " Procesando colección: Eventos_Publicos_1\n",
      " Insertados 19702 registros en tabla 'Eventos_Publicos_1'.\n",
      " Procesando colección: Eventos_Publicos_2\n",
      " Insertados 11750 registros en tabla 'Eventos_Publicos_2'.\n",
      " Procesando colección: Actividades_Hobbies_2\n",
      " Insertados 973 registros en tabla 'Actividades_Hobbies_2'.\n",
      " Procesando colección: Actividades_Hobbies\n",
      " Insertados 32000 registros en tabla 'Actividades_Hobbies'.\n",
      " Procesando colección: Eventos_Noticias_Mundiales_1\n",
      " Insertados 499999 registros en tabla 'Eventos_Noticias_Mundiales_1'.\n",
      " Procesando colección: Eventos_Deportivos_1\n"
     ]
    },
    {
     "ename": "ProgrammingError",
     "evalue": "('42000', \"[42000] [Microsoft][ODBC Driver 17 for SQL Server][SQL Server]Incorrect syntax near the keyword 'key'. (156) (SQLExecDirectW); [42000] [Microsoft][ODBC Driver 17 for SQL Server][SQL Server]Statement(s) could not be prepared. (8180)\")",
     "output_type": "error",
     "traceback": [
      "\u001b[31m---------------------------------------------------------------------------\u001b[39m",
      "\u001b[31mProgrammingError\u001b[39m                          Traceback (most recent call last)",
      "\u001b[36mCell\u001b[39m\u001b[36m \u001b[39m\u001b[32mIn[1]\u001b[39m\u001b[32m, line 56\u001b[39m\n\u001b[32m     54\u001b[39m \u001b[38;5;28;01mfor\u001b[39;00m _, fila \u001b[38;5;129;01min\u001b[39;00m df.iterrows():\n\u001b[32m     55\u001b[39m     valores = fila.fillna(\u001b[33m\"\u001b[39m\u001b[33m\"\u001b[39m).tolist()\n\u001b[32m---> \u001b[39m\u001b[32m56\u001b[39m     \u001b[43mcursor\u001b[49m\u001b[43m.\u001b[49m\u001b[43mexecute\u001b[49m\u001b[43m(\u001b[49m\u001b[43minsert_sql\u001b[49m\u001b[43m,\u001b[49m\u001b[43m \u001b[49m\u001b[43m*\u001b[49m\u001b[43mvalores\u001b[49m\u001b[43m)\u001b[49m\n\u001b[32m     58\u001b[39m conn.commit()\n\u001b[32m     59\u001b[39m \u001b[38;5;28mprint\u001b[39m(\u001b[33mf\u001b[39m\u001b[33m\"\u001b[39m\u001b[33m Insertados \u001b[39m\u001b[38;5;132;01m{\u001b[39;00m\u001b[38;5;28mlen\u001b[39m(df)\u001b[38;5;132;01m}\u001b[39;00m\u001b[33m registros en tabla \u001b[39m\u001b[33m'\u001b[39m\u001b[38;5;132;01m{\u001b[39;00mnombre_col\u001b[38;5;132;01m}\u001b[39;00m\u001b[33m'\u001b[39m\u001b[33m.\u001b[39m\u001b[33m\"\u001b[39m)\n",
      "\u001b[31mProgrammingError\u001b[39m: ('42000', \"[42000] [Microsoft][ODBC Driver 17 for SQL Server][SQL Server]Incorrect syntax near the keyword 'key'. (156) (SQLExecDirectW); [42000] [Microsoft][ODBC Driver 17 for SQL Server][SQL Server]Statement(s) could not be prepared. (8180)\")"
     ]
    }
   ],
   "source": [
    "import pymongo\n",
    "import pyodbc\n",
    "import pandas as pd\n",
    "import re\n",
    "\n",
    "# 1. Conectar a MongoDB local\n",
    "cliente_mongo = pymongo.MongoClient(\"mongodb://localhost:27017/\")\n",
    "db_mongo = cliente_mongo['PROYECTO_ANALISIS_UNIDO'] \n",
    "\n",
    "# 2. Conectar a SQL Server \n",
    "conn_str = (\n",
    "    \"DRIVER={ODBC Driver 17 for SQL Server};\"\n",
    "    \"SERVER=localhost;\"  \n",
    "    \"DATABASE=PROYECTO_ANALISIS_UNIDO;\"  \n",
    "    \"Trusted_Connection=yes;\"\n",
    ")\n",
    "\n",
    "conn = pyodbc.connect(conn_str)\n",
    "cursor = conn.cursor()\n",
    "\n",
    "# 3. Procesar todas las colecciones\n",
    "for nombre_col in db_mongo.list_collection_names():\n",
    "    print(f\" Procesando colección: {nombre_col}\")\n",
    "\n",
    "    docs = list(db_mongo[nombre_col].find())\n",
    "    for d in docs:\n",
    "        d.pop('_id', None)\n",
    "\n",
    "    if not docs:\n",
    "        print(f\" Colección '{nombre_col}' está vacía. Se omite.\")\n",
    "        continue\n",
    "\n",
    "    # Convertir a DataFrame\n",
    "    df = pd.DataFrame(docs)\n",
    "\n",
    "    # 4. Limpiar nombres de columnas para SQL Server\n",
    "    df.columns = [re.sub(r'\\W+', '_', col) for col in df.columns]\n",
    "\n",
    "    # 5. Crear tabla SQL con columnas tipo VARCHAR(MAX)\n",
    "    columnas_sql = \",\\n\".join([f\"[{col}] VARCHAR(MAX)\" for col in df.columns])\n",
    "    crear_tabla_sql = f\"\"\"\n",
    "        IF OBJECT_ID('{nombre_col}', 'U') IS NULL\n",
    "        CREATE TABLE [{nombre_col}] (\n",
    "            {columnas_sql}\n",
    "        )\n",
    "    \"\"\"\n",
    "    cursor.execute(crear_tabla_sql)\n",
    "    conn.commit()\n",
    "\n",
    "    # 6. Insertar datos usando placeholders seguros\n",
    "    placeholders = \", \".join([\"?\" for _ in df.columns])\n",
    "    insert_sql = f\"INSERT INTO [{nombre_col}] ({', '.join(df.columns)}) VALUES ({placeholders})\"\n",
    "\n",
    "    for _, fila in df.iterrows():\n",
    "        valores = fila.fillna(\"\").tolist()\n",
    "        cursor.execute(insert_sql, *valores)\n",
    "\n",
    "    conn.commit()\n",
    "    print(f\" Insertados {len(df)} registros en tabla '{nombre_col}'.\")\n",
    "\n",
    "# Cerrar conexión\n",
    "cursor.close()\n",
    "conn.close()\n",
    "print(\" Migración completa de MongoDB local a SQL Server.\")\n"
   ]
  },
  {
   "cell_type": "code",
   "execution_count": 4,
   "id": "5f674d2f-7d6e-4f41-a611-8c756037f4bf",
   "metadata": {},
   "outputs": [
    {
     "name": "stdout",
     "output_type": "stream",
     "text": [
      "Colección exportada exitosamente a SQL Server.\n"
     ]
    }
   ],
   "source": [
    "import pandas as pd\n",
    "from pymongo import MongoClient\n",
    "import pyodbc\n",
    "\n",
    "# 1. Conectar a MongoDB local\n",
    "cliente = MongoClient(\"mongodb://localhost:27017/\")\n",
    "db_mongo = cliente[\"PROYECTO_ANALISIS_UNIDO\"]        \n",
    "coleccion = db_mongo[\"Eventos_Deportivos_1\"]       \n",
    "\n",
    "# 2. Leer la colección como DataFrame\n",
    "datos = list(coleccion.find())\n",
    "df = pd.DataFrame(datos)\n",
    "\n",
    "# 3. Eliminar la columna '_id' \n",
    "if '_id' in df.columns:\n",
    "    df = df.drop(columns=['_id'])\n",
    "\n",
    "# 4. Conectar a SQL Server\n",
    "conn = pyodbc.connect(\n",
    "    \"DRIVER={ODBC Driver 17 for SQL Server};\"\n",
    "    \"SERVER=localhost;\"                        \n",
    "    \"DATABASE=PROYECTO_ANALISIS_UNIDO;\"               \n",
    "    \"Trusted_Connection=yes;\"                  \n",
    "   \n",
    ")\n",
    "\n",
    "# 5. Crear cursor\n",
    "cursor = conn.cursor()\n",
    "\n",
    "# 6. Crear tabla si no existe \n",
    "nombre_tabla_sql = \"Eventos_Deportivos_1\"\n",
    "columnas = \", \".join([f\"[{col}] NVARCHAR(MAX)\" for col in df.columns])\n",
    "cursor.execute(f\"IF OBJECT_ID('{nombre_tabla_sql}', 'U') IS NULL CREATE TABLE {nombre_tabla_sql} ({columnas})\")\n",
    "conn.commit()\n",
    "\n",
    "# 7. Insertar datos en SQL Server\n",
    "for _, fila in df.iterrows():\n",
    "    valores = \"', '\".join(str(v).replace(\"'\", \"''\") for v in fila)\n",
    "    query = f\"INSERT INTO {nombre_tabla_sql} VALUES ('{valores}')\"\n",
    "    cursor.execute(query)\n",
    "conn.commit()\n",
    "\n",
    "print(\"Colección exportada exitosamente a SQL Server.\")\n"
   ]
  },
  {
   "cell_type": "code",
   "execution_count": 5,
   "id": "8a78a4f0-d870-4d49-b746-04eceb03438f",
   "metadata": {},
   "outputs": [
    {
     "name": "stdout",
     "output_type": "stream",
     "text": [
      "Colección exportada exitosamente a SQL Server.\n"
     ]
    }
   ],
   "source": [
    "import pandas as pd\n",
    "from pymongo import MongoClient\n",
    "import pyodbc\n",
    "\n",
    "# 1. Conectar a MongoDB local\n",
    "cliente = MongoClient(\"mongodb://localhost:27017/\")\n",
    "db_mongo = cliente[\"PROYECTO_ANALISIS_UNIDO\"]        \n",
    "coleccion = db_mongo[\"Eventos_Noticias_Mundiales_3\"]       \n",
    "\n",
    "# 2. Leer la colección como DataFrame\n",
    "datos = list(coleccion.find())\n",
    "df = pd.DataFrame(datos)\n",
    "\n",
    "# 3. Eliminar la columna '_id' \n",
    "if '_id' in df.columns:\n",
    "    df = df.drop(columns=['_id'])\n",
    "\n",
    "# 4. Conectar a SQL Server\n",
    "conn = pyodbc.connect(\n",
    "    \"DRIVER={ODBC Driver 17 for SQL Server};\"\n",
    "    \"SERVER=localhost;\"                        \n",
    "    \"DATABASE=PROYECTO_ANALISIS_UNIDO;\"               \n",
    "    \"Trusted_Connection=yes;\"                  \n",
    "   \n",
    ")\n",
    "\n",
    "# 5. Crear cursor\n",
    "cursor = conn.cursor()\n",
    "\n",
    "# 6. Crear tabla si no existe \n",
    "nombre_tabla_sql = \"Eventos_Noticias_Mundiales_3\"\n",
    "columnas = \", \".join([f\"[{col}] NVARCHAR(MAX)\" for col in df.columns])\n",
    "cursor.execute(f\"IF OBJECT_ID('{nombre_tabla_sql}', 'U') IS NULL CREATE TABLE {nombre_tabla_sql} ({columnas})\")\n",
    "conn.commit()\n",
    "\n",
    "# 7. Insertar datos en SQL Server\n",
    "for _, fila in df.iterrows():\n",
    "    valores = \"', '\".join(str(v).replace(\"'\", \"''\") for v in fila)\n",
    "    query = f\"INSERT INTO {nombre_tabla_sql} VALUES ('{valores}')\"\n",
    "    cursor.execute(query)\n",
    "conn.commit()\n",
    "\n",
    "print(\"Colección exportada exitosamente a SQL Server.\")\n"
   ]
  },
  {
   "cell_type": "code",
   "execution_count": null,
   "id": "80670512-a988-4d17-833d-ae60ed34691b",
   "metadata": {},
   "outputs": [],
   "source": []
  }
 ],
 "metadata": {
  "kernelspec": {
   "display_name": "Python 3 (ipykernel)",
   "language": "python",
   "name": "python3"
  },
  "language_info": {
   "codemirror_mode": {
    "name": "ipython",
    "version": 3
   },
   "file_extension": ".py",
   "mimetype": "text/x-python",
   "name": "python",
   "nbconvert_exporter": "python",
   "pygments_lexer": "ipython3",
   "version": "3.12.6"
  }
 },
 "nbformat": 4,
 "nbformat_minor": 5
}
